{
 "cells": [
  {
   "cell_type": "markdown",
   "metadata": {},
   "source": [
    "<center>\n",
    "    <h1 style=\"font-size: 32px;\">Wrangle and Analyze Data</h1>\n",
    "    <h2>Abdulrahman Mohammed Alobaidy</h2>\n",
    "    <h3>Cohort 9</h3>\n",
    "    <h3>Data Analyst Nanodegree Program</h3>\n",
    "    <h4>Email: <a href=\"mailto:AbdulrahmanAlobaidy2001@gmail.com\">AbdulrahmanAlobaidy2001@gmail.com</a></h4>\n",
    "</center>\n",
    "<hr>"
   ]
  },
  {
   "cell_type": "markdown",
   "metadata": {},
   "source": [
    "# Introduction\n",
    "---"
   ]
  },
  {
   "cell_type": "markdown",
   "metadata": {},
   "source": [
    "In this project we have the [**WeRateDogs**](https://twitter.com/dog_rates) (**@dog_rates**) tweets and data that we must wrangle in order for the data to be suitable for analysis purposes.\n",
    "\n",
    "[**WeRateDogs**](https://twitter.com/dog_rates) is a twitter page that posts photos of pet dogs, each with a rating, sometimes with a dog stage and the dog's name, here, we will attempt to **gather** data related to the page from multiple sources, **assess** this data's quality and tidiness, and **clean** the data and fix the problems found during the assessment stage, **Data Wrangling** essentially, in order to prepare the data for the ultimate goal, which is **data analysis**"
   ]
  },
  {
   "cell_type": "markdown",
   "metadata": {},
   "source": [
    "<img src=\"https://github.com/AbdulrahmanAlobaidy/DAND-project-4/blob/main/tweet.png?raw=true\" alt=\"WeRateDogs Tweet\" width=\"50%\">"
   ]
  },
  {
   "cell_type": "markdown",
   "metadata": {},
   "source": [
    "During my analysis I focused on the dog groups that the dogs in some of **WeRateDogs**'s tweets seem to be classified into, these are groups were the following:\n",
    "* doggo\n",
    "* floofer\n",
    "* pupper\n",
    "* puppo\n",
    "* doggo, floofer\n",
    "* doggo, pupper\n",
    "* doggo, puppo\n",
    "\n",
    "The ones with more than one groups name probably belong to tweets with multiple images of dogs.\n",
    "\n",
    "These are some of the **WeRateDogs** terminology, also known as ***Dogtionary***, refer to the image below for meaning."
   ]
  },
  {
   "cell_type": "markdown",
   "metadata": {},
   "source": [
    "<img src=\"https://github.com/AbdulrahmanAlobaidy/DAND-project-4/blob/main/dogtionary-combined.png?raw=true\"\n",
    "     alt=\"WeRateDogs Dogtionary\">"
   ]
  },
  {
   "cell_type": "markdown",
   "metadata": {},
   "source": [
    "The analysis focused on the the difference between the aforementioned groups in respect to average ratings, average retweet count and average favorite count."
   ]
  },
  {
   "cell_type": "markdown",
   "metadata": {},
   "source": [
    "# Results\n",
    "---"
   ]
  },
  {
   "cell_type": "markdown",
   "metadata": {},
   "source": [
    "## 1. Ratings\n",
    "The dog stage `doggo, puppo` has the highest mean rating of **1.3** followed by **puppo** then **floofer**."
   ]
  },
  {
   "cell_type": "markdown",
   "metadata": {},
   "source": [
    "<img src=\"https://github.com/AbdulrahmanAlobaidy/DAND-project-4/blob/main/Mean%20Rating%20Per%20Dog%20Stage.png?raw=true\"\n",
    "     alt=\"Mean Rating Per Dog Stage\">"
   ]
  },
  {
   "cell_type": "markdown",
   "metadata": {},
   "source": [
    "## Retweets\n",
    "\n",
    "The dog stage `doggo, puppo` has the highest mean retweet count of **19196.0**, followed by `doggo` with a retweet count of **7799.6**."
   ]
  },
  {
   "cell_type": "markdown",
   "metadata": {},
   "source": [
    "<img src=\"https://github.com/AbdulrahmanAlobaidy/DAND-project-4/blob/main/Mean%20Retweet%20Count%20Per%20Dog%20Stage.png?raw=true\" alt=\"Mean Retweet Count Per Dog Stage\">"
   ]
  },
  {
   "cell_type": "markdown",
   "metadata": {},
   "source": [
    "## Favorite\n",
    "\n",
    "The dog stage `doggo, puppo` has the highest mean favorite count of **47844.0**, followed by `puppo` with about **17761.4** mean favorite count."
   ]
  },
  {
   "cell_type": "markdown",
   "metadata": {},
   "source": [
    "<img src=\"https://github.com/AbdulrahmanAlobaidy/DAND-project-4/blob/main/Mean%20Favorite%20Count%20Per%20Dog%20Stage.png?raw=true\" alt=\"Mean Favorite Count Per Dog Stage\">"
   ]
  },
  {
   "cell_type": "markdown",
   "metadata": {},
   "source": [
    "# Conclusions\n",
    "---"
   ]
  },
  {
   "cell_type": "markdown",
   "metadata": {},
   "source": [
    "According to my analysis, the dog stage `doggo, puppo` was the most popular according to mean rating, mean retweet count and mean favorite count."
   ]
  },
  {
   "cell_type": "markdown",
   "metadata": {},
   "source": [
    "# Resources\n",
    "---"
   ]
  },
  {
   "cell_type": "markdown",
   "metadata": {},
   "source": [
    "All of the code and datasets for this project are included on a [Github Repository](https://github.com/AbdulrahmanAlobaidy/DAND-project-4) dedicated for this project, including this Notebook in its `ipynb` format and HTML as well as any other relevant files."
   ]
  }
 ],
 "metadata": {
  "kernelspec": {
   "display_name": "Python 3",
   "language": "python",
   "name": "python3"
  },
  "language_info": {
   "codemirror_mode": {
    "name": "ipython",
    "version": 3
   },
   "file_extension": ".py",
   "mimetype": "text/x-python",
   "name": "python",
   "nbconvert_exporter": "python",
   "pygments_lexer": "ipython3",
   "version": "3.6.12"
  }
 },
 "nbformat": 4,
 "nbformat_minor": 4
}
